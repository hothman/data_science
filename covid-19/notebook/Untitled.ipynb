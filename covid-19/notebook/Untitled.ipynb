{
 "cells": [
  {
   "cell_type": "code",
   "execution_count": 3,
   "metadata": {},
   "outputs": [
    {
     "data": {
      "image/png": "[encoded data removed]",
      "text/plain": [
       "<Figure size 432x288 with 1 Axes>"
      ]
     },
     "metadata": {
      "needs_background": "light"
     },
     "output_type": "display_data"
    }
   ],
   "source": [
    "import pandas as pd\n",
    "import numpy as np\n",
    "import matplotlib.pylab as plt \n",
    "from scipy.optimize import curve_fit\n",
    "\n",
    "data = pd.read_csv(\"../data/covid_19_data_12-Mar-2020/csse_covid_19_time_series/time_series_19-covid-Confirmed.csv\")\n",
    "\n",
    "def clean_data(dataframe, country):\n",
    "    mydata = dataframe[dataframe['Country/Region'] == country].drop(columns=[\"Province/State\", \n",
    "            \"Country/Region\", \"Lat\", \"Long\"]).reset_index(drop=True).T\n",
    "    mydata.rename(columns={0:\"cumulative_count\"}, inplace=True)\n",
    "    mydata[\"date\"] = pd.to_datetime( mydata.index )\n",
    "    mydata = mydata[mydata[\"cumulative_count\"]!=0]\n",
    "    mydata[\"days\"] = np.linspace(1, len(mydata), len(mydata))\n",
    "    mydata.reset_index(drop=True, inplace=True)   \n",
    "    return mydata \n",
    "\n",
    "def SPG(t, r, m, A):\n",
    "    \"\"\" \"\"\"\n",
    "    return (  ((r/m)*np.array(t)  ) +A )**m\n",
    "\n",
    "def expgrowth(t, alpha, beta): \n",
    "    \"\"\" exponential growth\"\"\"\n",
    "    return alpha*np.exp( np.array(t))**beta\n",
    "\n",
    "def curve_fitting(dataframe): \n",
    "    days = dataframe.days\n",
    "    cases_count = dataframe.cumulative_count\n",
    "    parameters, pcov = curve_fit(expgrowth, days, cases_count)\n",
    "    return parameters, pcov\n",
    "\n",
    "def plot_exp_forecast(dataframne, popt, forecast_offset=5): \n",
    "    plot1 = plt.plot(dataframne.days, dataframne.cumulative_count,'o'  ,color =\"red\")\n",
    "    offset_array = np.arange(list(Tunisia.days)[-1]+1, list(Tunisia.days)[-1]+forecast_offset+1  )\n",
    "    offset = np.append(Tunisia.days, offset_array )\n",
    "    #np.append(Tunisia.days)\n",
    "    plot2 =  plt.plot(offset, expgrowth(offset, *popt),\"--\",color =\"blue\")\n",
    "    return plot1, plot2\n",
    "\n",
    "\n",
    "\n",
    "\n",
    "forecast = 5\n",
    "\n",
    "fig = plt.figure()\n",
    "fig.suptitle('COVID-19 forecast for Tunisia', fontsize=14, fontweight='bold')\n",
    "ax = fig.add_subplot(111)\n",
    "#ax.text(1, 12, r'Forecast for {0} after the \\n first  day of the outbreak', \n",
    "#        bbox={'facecolor': 'white',  'pad': 10})\n",
    "popt, pcov = curve_fitting(Tunisia)\n",
    "plot_exp_forecast(Tunisia, popt, 5)\n",
    "\n",
    "plt.savefig(\"COVID_Tn.svg\")\n",
    "\n",
    "\n"
   ]
  },
  {
   "cell_type": "code",
   "execution_count": 2,
   "metadata": {},
   "outputs": [
    {
     "name": "stderr",
     "output_type": "stream",
     "text": [
      "/home/houcemeddine/modules/anaconda/3.7/lib/python3.7/site-packages/pandas/plotting/_matplotlib/converter.py:103: FutureWarning: Using an implicitly registered datetime converter for a matplotlib plotting method. The converter was registered by pandas on import. Future versions of pandas will require you to explicitly register matplotlib converters.\n",
      "\n",
      "To register the converters:\n",
      "\t>>> from pandas.plotting import register_matplotlib_converters\n",
      "\t>>> register_matplotlib_converters()\n",
      "  warnings.warn(msg, FutureWarning)\n"
     ]
    },
    {
     "data": {
      "text/html": [
       "<div>\n",
       "<style scoped>\n",
       "    .dataframe tbody tr th:only-of-type {\n",
       "        vertical-align: middle;\n",
       "    }\n",
       "\n",
       "    .dataframe tbody tr th {\n",
       "        vertical-align: top;\n",
       "    }\n",
       "\n",
       "    .dataframe thead th {\n",
       "        text-align: right;\n",
       "    }\n",
       "</style>\n",
       "<table border=\"1\" class=\"dataframe\">\n",
       "  <thead>\n",
       "    <tr style=\"text-align: right;\">\n",
       "      <th></th>\n",
       "      <th>cumulative_count</th>\n",
       "      <th>date</th>\n",
       "      <th>days</th>\n",
       "    </tr>\n",
       "  </thead>\n",
       "  <tbody>\n",
       "    <tr>\n",
       "      <td>0</td>\n",
       "      <td>1</td>\n",
       "      <td>2020-03-04</td>\n",
       "      <td>1.0</td>\n",
       "    </tr>\n",
       "    <tr>\n",
       "      <td>1</td>\n",
       "      <td>1</td>\n",
       "      <td>2020-03-05</td>\n",
       "      <td>2.0</td>\n",
       "    </tr>\n",
       "    <tr>\n",
       "      <td>2</td>\n",
       "      <td>1</td>\n",
       "      <td>2020-03-06</td>\n",
       "      <td>3.0</td>\n",
       "    </tr>\n",
       "    <tr>\n",
       "      <td>3</td>\n",
       "      <td>1</td>\n",
       "      <td>2020-03-07</td>\n",
       "      <td>4.0</td>\n",
       "    </tr>\n",
       "    <tr>\n",
       "      <td>4</td>\n",
       "      <td>2</td>\n",
       "      <td>2020-03-08</td>\n",
       "      <td>5.0</td>\n",
       "    </tr>\n",
       "    <tr>\n",
       "      <td>5</td>\n",
       "      <td>2</td>\n",
       "      <td>2020-03-09</td>\n",
       "      <td>6.0</td>\n",
       "    </tr>\n",
       "    <tr>\n",
       "      <td>6</td>\n",
       "      <td>5</td>\n",
       "      <td>2020-03-10</td>\n",
       "      <td>7.0</td>\n",
       "    </tr>\n",
       "    <tr>\n",
       "      <td>7</td>\n",
       "      <td>7</td>\n",
       "      <td>2020-03-11</td>\n",
       "      <td>8.0</td>\n",
       "    </tr>\n",
       "  </tbody>\n",
       "</table>\n",
       "</div>"
      ],
      "text/plain": [
       "   cumulative_count       date  days\n",
       "0                 1 2020-03-04   1.0\n",
       "1                 1 2020-03-05   2.0\n",
       "2                 1 2020-03-06   3.0\n",
       "3                 1 2020-03-07   4.0\n",
       "4                 2 2020-03-08   5.0\n",
       "5                 2 2020-03-09   6.0\n",
       "6                 5 2020-03-10   7.0\n",
       "7                 7 2020-03-11   8.0"
      ]
     },
     "execution_count": 2,
     "metadata": {},
     "output_type": "execute_result"
    },
    {
     "data": {
      "image/png": "[encoded data removed]",
      "text/plain": [
       "<Figure size 432x288 with 1 Axes>"
      ]
     },
     "metadata": {
      "needs_background": "light"
     },
     "output_type": "display_data"
    }
   ],
   "source": [
    "Italy = clean_data(data, \"Italy\")\n",
    "Tunisia = clean_data(data, \"Tunisia\")\n",
    "Algeria = clean_data(data, \"Algeria\")\n",
    "SA = clean_data(data, \"South Africa\")\n",
    "Egypt = clean_data(data, \"Egypt\")\n",
    "Nigeria = clean_data(data, \"Nigeria\")\n",
    "#plt.plot(Italy.date, Italy.cumulative_count )\n",
    "plt.plot(Tunisia.date, Tunisia.cumulative_count )\n",
    "plt.plot(Algeria.date, Algeria.cumulative_count )\n",
    "plt.plot(SA.date, SA.cumulative_count)\n",
    "#plt.plot(Egypt.date, Egypt.cumulative_count )\n",
    "plt.plot(Nigeria.date, Nigeria.cumulative_count )\n",
    "\n"
   ]
  },
  {
   "cell_type": "code",
   "execution_count": null,
   "metadata": {},
   "outputs": [],
   "source": [
    "def wrap(countries, dataframe):\n",
    "    for country in countries: \n",
    "        clean = clean_data(dataframe, country)\n",
    "        popt, pcov = curve_fitting(clean)\n",
    "        plot_exp_forecast(clean, popt, 10)\n",
    "        \n",
    "wrap([\"South Africa\"], data)"
   ]
  },
  {
   "cell_type": "code",
   "execution_count": 104,
   "metadata": {},
   "outputs": [
    {
     "data": {
      "text/plain": [
       "<matplotlib.collections.PathCollection at 0x7f058fb15990>"
      ]
     },
     "execution_count": 104,
     "metadata": {},
     "output_type": "execute_result"
    },
    {
     "data": {
      "image/png": "[encoded data removed]",
      "text/plain": [
       "<Figure size 432x288 with 1 Axes>"
      ]
     },
     "metadata": {
      "needs_background": "light"
     },
     "output_type": "display_data"
    }
   ],
   "source": [
    "import numpy as np\n",
    "subpd = Tunisia[Tunisia[75]!=0]\n",
    "\n",
    "days =  np.linspace(start = 1, stop = len(subpd), num = len(subpd))  \n",
    "\n",
    "plt.scatter(days, subpd[75])"
   ]
  },
  {
   "cell_type": "code",
   "execution_count": 105,
   "metadata": {},
   "outputs": [
    {
     "data": {
      "text/plain": [
       "[<matplotlib.lines.Line2D at 0x7f0592740f50>]"
      ]
     },
     "execution_count": 105,
     "metadata": {},
     "output_type": "execute_result"
    },
    {
     "data": {
      "image/png": "[encoded data removed]",
      "text/plain": [
       "<Figure size 432x288 with 1 Axes>"
      ]
     },
     "metadata": {
      "needs_background": "light"
     },
     "output_type": "display_data"
    }
   ],
   "source": [
    "def SPG(t, r, m, A):\n",
    "    return (  ((r/m)*np.array(t) ) +A )**m\n",
    "\n",
    "def expgrowth(t, alpha, beta): \n",
    "    return alpha*np.exp( np.array(t))**beta\n",
    "\n",
    "time = np.linspace(start = 1, stop = 40, num = 40)\n",
    "sim_data = SPG(time, 8, 8, 8)\n",
    "\n",
    "plt.plot(time, SPG(time, 10, 5, 1) , \"-o\" )\n",
    "plt.plot(time, expgrowth(time, 0.5, 1), \"-o\" )\n"
   ]
  },
  {
   "cell_type": "code",
   "execution_count": 107,
   "metadata": {},
   "outputs": [
    {
     "data": {
      "text/plain": [
       "[<matplotlib.lines.Line2D at 0x7f058f8366d0>]"
      ]
     },
     "execution_count": 107,
     "metadata": {},
     "output_type": "execute_result"
    },
    {
     "data": {
      "image/png": "[encoded data removed]",
      "text/plain": [
       "<Figure size 432x288 with 1 Axes>"
      ]
     },
     "metadata": {
      "needs_background": "light"
     },
     "output_type": "display_data"
    }
   ],
   "source": [
    "plt.plot(days, subpd[75],'o'  ,color =\"black\")\n",
    "plt.plot(time, SPG(time, r=1.5, m=2.6, A=2.7), \"-o\" )\n",
    "plt.plot(time, expgrowth(time, alpha=0.001, beta=0.41), \"-o\" )\n"
   ]
  },
  {
   "cell_type": "code",
   "execution_count": 112,
   "metadata": {},
   "outputs": [
    {
     "data": {
      "text/plain": [
       "[<matplotlib.lines.Line2D at 0x7f058f7cf990>]"
      ]
     },
     "execution_count": 112,
     "metadata": {},
     "output_type": "execute_result"
    },
    {
     "data": {
      "image/png": "[encoded data removed]",
      "text/plain": [
       "<Figure size 432x288 with 1 Axes>"
      ]
     },
     "metadata": {
      "needs_background": "light"
     },
     "output_type": "display_data"
    }
   ],
   "source": [
    "from scipy.optimize import curve_fit\n",
    "popt, pcov = curve_fit(expgrowth, days, subpd[75])\n",
    "plt.plot(days, subpd[75],'o'  ,color =\"red\")\n",
    "plt.plot(days, expgrowth(days, *popt),\"--\",color =\"blue\")\n",
    "\n"
   ]
  },
  {
   "cell_type": "code",
   "execution_count": 114,
   "metadata": {},
   "outputs": [
    {
     "data": {
      "text/plain": [
       "array([ 1.,  2.,  3.,  4.,  5.,  6.,  7.,  8.,  9., 10., 11., 12., 13.,\n",
       "       14., 15., 16., 17., 18., 19., 20.])"
      ]
     },
     "execution_count": 114,
     "metadata": {},
     "output_type": "execute_result"
    }
   ],
   "source": [
    "np.linspace(1, 20, 20)"
   ]
  },
  {
   "cell_type": "code",
   "execution_count": 125,
   "metadata": {},
   "outputs": [
    {
     "data": {
      "text/plain": [
       "[<matplotlib.lines.Line2D at 0x7f058f25b090>]"
      ]
     },
     "execution_count": 125,
     "metadata": {},
     "output_type": "execute_result"
    },
    {
     "data": {
      "image/png": "[encoded data removed]",
      "text/plain": [
       "<Figure size 432x288 with 1 Axes>"
      ]
     },
     "metadata": {
      "needs_background": "light"
     },
     "output_type": "display_data"
    }
   ],
   "source": [
    "plt.plot(np.linspace(1, 20, 20), expgrowth(np.linspace(1, 20, 20), *popt),\"--\",color =\"blue\")\n",
    "\n",
    "plt.plot(days, subpd[75],'o'  ,color =\"red\")\n"
   ]
  },
  {
   "cell_type": "code",
   "execution_count": null,
   "metadata": {},
   "outputs": [],
   "source": []
  }
 ],
 "metadata": {
  "kernelspec": {
   "display_name": "Python 3",
   "language": "python",
   "name": "python3"
  },
  "language_info": {
   "codemirror_mode": {
    "name": "ipython",
    "version": 3
   },
   "file_extension": ".py",
   "mimetype": "text/x-python",
   "name": "python",
   "nbconvert_exporter": "python",
   "pygments_lexer": "ipython3",
   "version": "3.7.6"
  }
 },
 "nbformat": 4,
 "nbformat_minor": 2
}
